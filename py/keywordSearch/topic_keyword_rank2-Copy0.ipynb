{
 "metadata": {
  "name": "",
  "signature": "sha256:804a0760501d38e154ec5596ef6d041c23265072720157f8a15fc25494ac37fd"
 },
 "nbformat": 3,
 "nbformat_minor": 0,
 "worksheets": [
  {
   "cells": [
    {
     "cell_type": "code",
     "collapsed": false,
     "input": [
      "from elasticsearch import Elasticsearch\n",
      "import os, re\n",
      "es = Elasticsearch([{'host':'210.107.192.201', 'port':9200}])"
     ],
     "language": "python",
     "metadata": {},
     "outputs": [],
     "prompt_number": 3
    },
    {
     "cell_type": "code",
     "collapsed": false,
     "input": [
      "file = open('2015_description_topic.csv', 'rb')\n",
      "newpath = './2015topic_keyword/'\n",
      "if not os.path.exists(newpath): os.makedirs(newpath)\n",
      "    \n",
      "topics = file.readlines()\n",
      "cnt = 1\n",
      "for topic in topics:\n",
      "    topic = topic.lower()\n",
      "    \n",
      "    topic = re.sub('[^a-zA-Z0-9-_*.]', ' ', topic)\n",
      "    print(\"{} : \".format(cnt) + topic)\n",
      "    cnt += 1\n",
      "    \n",
      "    res = es.search(index=\"dfr_ngram_total_new\",doc_type=\"article\", q=topic\n",
      "                    #,size=100\n",
      "                    ,request_timeout=1000000\n",
      "                    #,search_type=\"count\"\n",
      "                    ,fields=['pmcid'])\n",
      "    #print(res['hits']['hits'])\n",
      "    total = res['hits']['total']\n",
      "    size = total/10\n",
      "    res = es.search(index=\"dfr_ngram_total_new\",doc_type=\"article\", q=topic\n",
      "                    ,size=size\n",
      "                    ,request_timeout=1000000\n",
      "                    #,search_type=\"count\"\n",
      "                    ,fields=['pmcid'])\n",
      "    print \"total : {0}\".format(total)\n",
      "    print \"size : {0}\".format(size)\n",
      "    results = res['hits']['hits']\n",
      "    target = open(newpath+'topic{0}.csv'.format(cnt), 'w')\n",
      "    for result in results:\n",
      "        pmcid = str(result['fields']['pmcid'])\n",
      "        \n",
      "        print(pmcid)\n",
      "        target.write(pmcid)\n",
      "        \n",
      "    target.close()"
     ],
     "language": "python",
     "metadata": {},
     "outputs": []
    },
    {
     "cell_type": "code",
     "collapsed": false,
     "input": [
      "file = open('2015_mix_topic_final.csv', 'rb')\n",
      "newpath = './2015_mix_topic_final/'\n",
      "if not os.path.exists(newpath): os.makedirs(newpath)\n",
      "    \n",
      "topics = file.readlines()\n",
      "cnt = 1\n",
      "for topic in topics:\n",
      "    topic = topic.lower()\n",
      "    \n",
      "    topic = re.sub('[^a-zA-Z0-9-_*.]', ' ', topic)\n",
      "    \n",
      "   \n",
      "    \n",
      "    res = es.search(index=\"dfr_ngram_total_new\",doc_type=\"article\", q=topic\n",
      "                    #,size=100\n",
      "                    ,request_timeout=1000000\n",
      "                    ,search_type=\"count\"\n",
      "                    ,fields=['pmcid'])\n",
      "    #print(res['hits']['hits'])\n",
      "    #total = res['hits']['total']\n",
      "    cnt += 1\n",
      "    print(res)"
     ],
     "language": "python",
     "metadata": {},
     "outputs": [
      {
       "output_type": "stream",
       "stream": "stdout",
       "text": [
        "{u'hits': {u'hits': [], u'total': 515250, u'max_score': 0.0}, u'_shards': {u'successful': 5, u'failed': 0, u'total': 5}, u'took': 10780, u'timed_out': False}\n",
        "{u'hits': {u'hits': [], u'total': 687470, u'max_score': 0.0}, u'_shards': {u'successful': 5, u'failed': 0, u'total': 5}, u'took': 5849, u'timed_out': False}"
       ]
      },
      {
       "output_type": "stream",
       "stream": "stdout",
       "text": [
        "\n",
        "{u'hits': {u'hits': [], u'total': 720185, u'max_score': 0.0}, u'_shards': {u'successful': 5, u'failed': 0, u'total': 5}, u'took': 4693, u'timed_out': False}"
       ]
      },
      {
       "output_type": "stream",
       "stream": "stdout",
       "text": [
        "\n",
        "{u'hits': {u'hits': [], u'total': 715133, u'max_score': 0.0}, u'_shards': {u'successful': 5, u'failed': 0, u'total': 5}, u'took': 7431, u'timed_out': False}"
       ]
      },
      {
       "output_type": "stream",
       "stream": "stdout",
       "text": [
        "\n",
        "{u'hits': {u'hits': [], u'total': 715075, u'max_score': 0.0}, u'_shards': {u'successful': 5, u'failed': 0, u'total': 5}, u'took': 2172, u'timed_out': False}"
       ]
      },
      {
       "output_type": "stream",
       "stream": "stdout",
       "text": [
        "\n",
        "{u'hits': {u'hits': [], u'total': 714120, u'max_score': 0.0}, u'_shards': {u'successful': 5, u'failed': 0, u'total': 5}, u'took': 500, u'timed_out': False}"
       ]
      },
      {
       "output_type": "stream",
       "stream": "stdout",
       "text": [
        "\n",
        "{u'hits': {u'hits': [], u'total': 520547, u'max_score': 0.0}, u'_shards': {u'successful': 5, u'failed': 0, u'total': 5}, u'took': 957, u'timed_out': False}"
       ]
      },
      {
       "output_type": "stream",
       "stream": "stdout",
       "text": [
        "\n",
        "{u'hits': {u'hits': [], u'total': 717827, u'max_score': 0.0}, u'_shards': {u'successful': 5, u'failed': 0, u'total': 5}, u'took': 2041, u'timed_out': False}"
       ]
      },
      {
       "output_type": "stream",
       "stream": "stdout",
       "text": [
        "\n",
        "{u'hits': {u'hits': [], u'total': 715439, u'max_score': 0.0}, u'_shards': {u'successful': 5, u'failed': 0, u'total': 5}, u'took': 3535, u'timed_out': False}"
       ]
      },
      {
       "output_type": "stream",
       "stream": "stdout",
       "text": [
        "\n",
        "{u'hits': {u'hits': [], u'total': 416295, u'max_score': 0.0}, u'_shards': {u'successful': 5, u'failed': 0, u'total': 5}, u'took': 528, u'timed_out': False}"
       ]
      },
      {
       "output_type": "stream",
       "stream": "stdout",
       "text": [
        "\n",
        "{u'hits': {u'hits': [], u'total': 698628, u'max_score': 0.0}, u'_shards': {u'successful': 5, u'failed': 0, u'total': 5}, u'took': 1665, u'timed_out': False}"
       ]
      },
      {
       "output_type": "stream",
       "stream": "stdout",
       "text": [
        "\n",
        "{u'hits': {u'hits': [], u'total': 194096, u'max_score': 0.0}, u'_shards': {u'successful': 5, u'failed': 0, u'total': 5}, u'took': 203, u'timed_out': False}"
       ]
      },
      {
       "output_type": "stream",
       "stream": "stdout",
       "text": [
        "\n",
        "{u'hits': {u'hits': [], u'total': 413807, u'max_score': 0.0}, u'_shards': {u'successful': 5, u'failed': 0, u'total': 5}, u'took': 1453, u'timed_out': False}"
       ]
      },
      {
       "output_type": "stream",
       "stream": "stdout",
       "text": [
        "\n",
        "{u'hits': {u'hits': [], u'total': 561438, u'max_score': 0.0}, u'_shards': {u'successful': 5, u'failed': 0, u'total': 5}, u'took': 2642, u'timed_out': False}"
       ]
      },
      {
       "output_type": "stream",
       "stream": "stdout",
       "text": [
        "\n",
        "{u'hits': {u'hits': [], u'total': 716142, u'max_score': 0.0}, u'_shards': {u'successful': 5, u'failed': 0, u'total': 5}, u'took': 3471, u'timed_out': False}"
       ]
      },
      {
       "output_type": "stream",
       "stream": "stdout",
       "text": [
        "\n",
        "{u'hits': {u'hits': [], u'total': 290079, u'max_score': 0.0}, u'_shards': {u'successful': 5, u'failed': 0, u'total': 5}, u'took': 1179, u'timed_out': False}"
       ]
      },
      {
       "output_type": "stream",
       "stream": "stdout",
       "text": [
        "\n",
        "{u'hits': {u'hits': [], u'total': 576736, u'max_score': 0.0}, u'_shards': {u'successful': 5, u'failed': 0, u'total': 5}, u'took': 899, u'timed_out': False}"
       ]
      },
      {
       "output_type": "stream",
       "stream": "stdout",
       "text": [
        "\n",
        "{u'hits': {u'hits': [], u'total': 715157, u'max_score': 0.0}, u'_shards': {u'successful': 5, u'failed': 0, u'total': 5}, u'took': 1192, u'timed_out': False}"
       ]
      },
      {
       "output_type": "stream",
       "stream": "stdout",
       "text": [
        "\n",
        "{u'hits': {u'hits': [], u'total': 714209, u'max_score': 0.0}, u'_shards': {u'successful': 5, u'failed': 0, u'total': 5}, u'took': 1187, u'timed_out': False}"
       ]
      },
      {
       "output_type": "stream",
       "stream": "stdout",
       "text": [
        "\n",
        "{u'hits': {u'hits': [], u'total': 626954, u'max_score': 0.0}, u'_shards': {u'successful': 5, u'failed': 0, u'total': 5}, u'took': 1684, u'timed_out': False}"
       ]
      },
      {
       "output_type": "stream",
       "stream": "stdout",
       "text": [
        "\n",
        "{u'hits': {u'hits': [], u'total': 714005, u'max_score': 0.0}, u'_shards': {u'successful': 5, u'failed': 0, u'total': 5}, u'took': 923, u'timed_out': False}"
       ]
      },
      {
       "output_type": "stream",
       "stream": "stdout",
       "text": [
        "\n",
        "{u'hits': {u'hits': [], u'total': 717389, u'max_score': 0.0}, u'_shards': {u'successful': 5, u'failed': 0, u'total': 5}, u'took': 852, u'timed_out': False}"
       ]
      },
      {
       "output_type": "stream",
       "stream": "stdout",
       "text": [
        "\n",
        "{u'hits': {u'hits': [], u'total': 583246, u'max_score': 0.0}, u'_shards': {u'successful': 5, u'failed': 0, u'total': 5}, u'took': 615, u'timed_out': False}"
       ]
      },
      {
       "output_type": "stream",
       "stream": "stdout",
       "text": [
        "\n",
        "{u'hits': {u'hits': [], u'total': 568271, u'max_score': 0.0}, u'_shards': {u'successful': 5, u'failed': 0, u'total': 5}, u'took': 559, u'timed_out': False}"
       ]
      },
      {
       "output_type": "stream",
       "stream": "stdout",
       "text": [
        "\n",
        "{u'hits': {u'hits': [], u'total': 714537, u'max_score': 0.0}, u'_shards': {u'successful': 5, u'failed': 0, u'total': 5}, u'took': 1725, u'timed_out': False}"
       ]
      },
      {
       "output_type": "stream",
       "stream": "stdout",
       "text": [
        "\n",
        "{u'hits': {u'hits': [], u'total': 458449, u'max_score': 0.0}, u'_shards': {u'successful': 5, u'failed': 0, u'total': 5}, u'took': 922, u'timed_out': False}"
       ]
      },
      {
       "output_type": "stream",
       "stream": "stdout",
       "text": [
        "\n",
        "{u'hits': {u'hits': [], u'total': 509956, u'max_score': 0.0}, u'_shards': {u'successful': 5, u'failed': 0, u'total': 5}, u'took': 764, u'timed_out': False}"
       ]
      },
      {
       "output_type": "stream",
       "stream": "stdout",
       "text": [
        "\n",
        "{u'hits': {u'hits': [], u'total': 463939, u'max_score': 0.0}, u'_shards': {u'successful': 5, u'failed': 0, u'total': 5}, u'took': 264, u'timed_out': False}"
       ]
      },
      {
       "output_type": "stream",
       "stream": "stdout",
       "text": [
        "\n",
        "{u'hits': {u'hits': [], u'total': 714193, u'max_score': 0.0}, u'_shards': {u'successful': 5, u'failed': 0, u'total': 5}, u'took': 521, u'timed_out': False}"
       ]
      },
      {
       "output_type": "stream",
       "stream": "stdout",
       "text": [
        "\n",
        "{u'hits': {u'hits': [], u'total': 714240, u'max_score': 0.0}, u'_shards': {u'successful': 5, u'failed': 0, u'total': 5}, u'took': 350, u'timed_out': False}"
       ]
      },
      {
       "output_type": "stream",
       "stream": "stdout",
       "text": [
        "\n"
       ]
      }
     ],
     "prompt_number": 4
    }
   ],
   "metadata": {}
  }
 ]
}