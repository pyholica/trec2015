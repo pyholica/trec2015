{
 "metadata": {
  "name": "",
  "signature": "sha256:2af89c684fe358d3d42d5382e0e3e2a9742ebe46c29af4e8da6c2d7f9e24bd61"
 },
 "nbformat": 3,
 "nbformat_minor": 0,
 "worksheets": [
  {
   "cells": [
    {
     "cell_type": "code",
     "collapsed": false,
     "input": [
      "\n",
      "# coding: utf-8\n",
      "\n",
      "# In[6]:\n",
      "\n",
      "from elasticsearch import Elasticsearch\n",
      "import os, re\n",
      "es = Elasticsearch([{'host':'210.107.192.201', 'port':9200}])\n",
      "\n",
      "\n",
      "# In[ ]:\n",
      "\n",
      "file = open('2014_mix_topic_final.csv', 'rb')\n",
      "newpath = './2014_mixed_topic_keyword/'\n",
      "if not os.path.exists(newpath): os.makedirs(newpath)\n",
      "    \n",
      "topics = file.readlines()\n",
      "cnt = 1\n",
      "for topic in topics:\n",
      "    topic = topic.lower()\n",
      "    \n",
      "    topic = re.sub('[^a-zA-Z0-9-_*.]', ' ', topic)\n",
      "    print(\"{} : \".format(cnt) + topic)\n",
      "    \n",
      "    \n",
      "    res = es.search(index=\"dfr_ngram_total_new\",doc_type=\"article\", q=topic\n",
      "                    #,size=10000\n",
      "                    ,search_type = \"count\"\n",
      "                    ,request_timeout=1000000\n",
      "                    #,search_type=\"count\"\n",
      "                    ,fields=['pmcid'])\n",
      "    print(res['hits']['total'])\n",
      "    #total = res['hits']['total']\n",
      "    #size = total/10\n",
      "    \n",
      "    #print \"total : {0}\".format(total)\n",
      "    #print \"size : {0}\".format(size)\n",
      "\n"
     ],
     "language": "python",
     "metadata": {},
     "outputs": [
      {
       "output_type": "stream",
       "stream": "stdout",
       "text": [
        "1 : chest pain radiating ekg hypercholesterolemia burning chest dyspnea heart related burning nausea hypercholesterolaemia diaphoresis diabetes family history of disease pressing pain obesity hypertension pain nos pain         \n",
        "715787"
       ]
      },
      {
       "output_type": "stream",
       "stream": "stdout",
       "text": [
        "\n",
        "1 : fever cough symptoms dyspnea chest x-ray respiratory distress loose stools loose stools bronchial upper respiratory tract lung infiltrate infiltrate of lung loose stools              \n",
        "714307"
       ]
      },
      {
       "output_type": "stream",
       "stream": "stdout",
       "text": [
        "\n",
        "1 : neurologic examination right frontal lobe cough left lung x-ray left lung mass head ct x-ray  nos a mass non-smoker ct scan of head exertional dyspnea asymptomatic non-smoker            \n",
        "717452"
       ]
      },
      {
       "output_type": "stream",
       "stream": "stdout",
       "text": [
        "\n",
        "1 : leukocytes in urine coronary artery aneurysm conjunctivitis normochromic normocytic anaemia erythrocyte sedimentation rate irritability feet hands desquamation echocardiogram fever high fever fingers of skin tenderness physical exam findings physical exam findings elevated aminotransferase urine leukocytes toes identified desquamation of skin strawberry tongue coronary arteries node low albumin  \n",
        "719901"
       ]
      },
      {
       "output_type": "stream",
       "stream": "stdout",
       "text": [
        "\n",
        "1 : tenderness decreased breath sounds pulmonary infection shortness of breath malaise signs calf tenderness thoracic wall auscultation elevated d-dimer                 \n",
        "714335"
       ]
      },
      {
       "output_type": "stream",
       "stream": "stdout",
       "text": [
        "\n",
        "1 : lesion painful obese oozing skin lesion increase in size diabetes mellitus diabetes left lower leg skin lesion pain diagnosis medication compliance                \n",
        "707389"
       ]
      },
      {
       "output_type": "stream",
       "stream": "stdout",
       "text": [
        "\n",
        "1 : agitated irritability sit obese depressed unable weight difficulty sleeping fidgety current medication history of disorder suicidal ideation irritable suicide thoughts find depressed agitation sit         \n",
        "714188"
       ]
      },
      {
       "output_type": "stream",
       "stream": "stdout",
       "text": [
        "\n",
        "1 : biopsy memory loss sharp neurologic examination neuroimaging cerebral atrophy electroencephalogram cortical involuntary movements jerking movements cortical atrophy brain mri vacuolar change reactive astrocytosis             \n",
        "493909"
       ]
      },
      {
       "output_type": "stream",
       "stream": "stdout",
       "text": [
        "\n",
        "1 : lesions neck multiple lesions soft pedunculated lesion lesion                     \n",
        "372883"
       ]
      },
      {
       "output_type": "stream",
       "stream": "stdout",
       "text": [
        "\n",
        "1 : cardiac catheterization right femoral artery femoral artery right cardiac catheterisation pulseless bruit femoral bruit loss of distal pulse a mass right foot auscultation femoral artery               \n",
        "717136"
       ]
      },
      {
       "output_type": "stream",
       "stream": "stdout",
       "text": [
        "\n",
        "1 : hypotension pain in right arm discoloration discomfort pale blood pressure blood pressure past medical history right arm pain right arm tachycardia discomfort tachypneic past medical history             \n",
        "708406"
       ]
      },
      {
       "output_type": "stream",
       "stream": "stdout",
       "text": [
        "\n",
        "1 : difficulty sleeping weight gain cold intolerance intolerant of cold fatigue soft mass weight gain change in voice hair loss                  \n",
        "719780"
       ]
      },
      {
       "output_type": "stream",
       "stream": "stdout",
       "text": [
        "\n",
        "1 : shortness of breath blood pressure abortions healthy child tachypnea chest x-ray hypoxia blood pressure apprehensive tachycardia healthiness tachypneic               \n",
        "714228"
       ]
      },
      {
       "output_type": "stream",
       "stream": "stdout",
       "text": [
        "\n",
        "1 : head fever rash cough head ct was level of consciousness normal ct diarrhea                  \n",
        "714660"
       ]
      },
      {
       "output_type": "stream",
       "stream": "stdout",
       "text": [
        "\n",
        "1 : negative amenorrhea ultrasound abdominal tenderness cervical dilation tender abdomen enlarged uterus sensitivity nausea uterus differential diagnosis vaginal spotting vomiting              \n",
        "461017"
       ]
      },
      {
       "output_type": "stream",
       "stream": "stdout",
       "text": [
        "\n",
        "1 : swallowing malaise sweating paresthesias spasticity numbness neck pain spastic tremor difficulty swallowing hydrophobia shoulder pain left hand neck pain tremors arm diaphoresis hospitalized agitation left arm neck      \n",
        "396620"
       ]
      },
      {
       "output_type": "stream",
       "stream": "stdout",
       "text": [
        "\n",
        "1 : murphy s sign tenderness fever ultrasound positive liver abscess acute abdominal pain history common variable immunodeficiency liver abscess abdominal ultrasound liver hepatomegaly exploratory laparotomy abdominal pain dehydration          \n",
        "605276"
       ]
      },
      {
       "output_type": "stream",
       "stream": "stdout",
       "text": [
        "\n",
        "1 : hypertensive 3 6 urine output blood pressure blood pressure decreased urine output creatinine tachycardia                   \n",
        "633210"
       ]
      },
      {
       "output_type": "stream",
       "stream": "stdout",
       "text": [
        "\n",
        "1 : able weight loss smoking history sternum difficulty swallowing weightloss swallowing dysphagia  progressive                  \n",
        "488583"
       ]
      },
      {
       "output_type": "stream",
       "stream": "stdout",
       "text": [
        "\n",
        "1 : extremity fractures no bowel sounds extremity blood pressure alert rebound abdominal pain tender abdomen blood pressure guarding awake                 \n",
        "584045"
       ]
      },
      {
       "output_type": "stream",
       "stream": "stdout",
       "text": [
        "\n",
        "1 : malaise palpable purpura facial rash calf butterfly rash anti double stranded dna arthralgias thrombocytopenia tenderness positive fatigue bridge of nose swelling alopecia rash normocytic anaemia labs proteinuria         \n",
        "714276"
       ]
      },
      {
       "output_type": "stream",
       "stream": "stdout",
       "text": [
        "\n",
        "1 : menses rebound tenderness decreased appetite pain nos abdominal ultrasound abdominal pain  right lower quadrant pain abdominal pain appendix diarrhea                \n",
        "507317"
       ]
      },
      {
       "output_type": "stream",
       "stream": "stdout",
       "text": [
        "\n",
        "1 : past medical history productive cough lung rales hypothyroidism difficulty breathing psoriasis early-onset cough family history of dementia symptoms shortness of breath fever past medical history tachypneic diabetes tachypnea purulent sputum chest x-ray home oxygen smoker barrel-shaped chest      \n",
        "715194"
       ]
      },
      {
       "output_type": "stream",
       "stream": "stdout",
       "text": [
        "\n",
        "1 : negative ultrasound pale severe pain acute abdominal pain mild pain fall examination of abdomen imaging physical tachycardia ct scan abdomen abdominal pain              \n",
        "715154"
       ]
      },
      {
       "output_type": "stream",
       "stream": "stdout",
       "text": [
        "\n",
        "1 : head pale blood pressure hypertensive scan drowsy no loss of consciousness pupils blood pressure fall limbs symmetrical scan falling decreased level of consciousness vomited           \n",
        "715221"
       ]
      },
      {
       "output_type": "stream",
       "stream": "stdout",
       "text": [
        "\n",
        "1 : malaria indicated chemoprophylaxis                        \n",
        "279806"
       ]
      },
      {
       "output_type": "stream",
       "stream": "stdout",
       "text": [
        "\n",
        "1 : biopsied sigmoidoscopy colonic polyps benign polyps history of colonoscopy colonoscopy rectosigmoid total colonoscopy family history                  \n",
        "714173"
       ]
      },
      {
       "output_type": "stream",
       "stream": "stdout",
       "text": [
        "\n",
        "1 : nipple negative amenorrhea normal periods age at menarche normal urine milky nipple discharge  so nipple pregnant elevated prolactin level pregnant                \n",
        "643016"
       ]
      },
      {
       "output_type": "stream",
       "stream": "stdout",
       "text": [
        "\n",
        "1 : hypertension osteoporosis diabetes hip history of medical smoker history of hypertension menopause                   \n",
        "714632"
       ]
      },
      {
       "output_type": "stream",
       "stream": "stdout",
       "text": [
        "\n",
        "1 : hypertension worsened carotid bruit calf pain symptoms blood pressure worsening myocardial infarction blood pressure heart worsened history of disease medication compliance myocardial infarction transient ischemic attack            \n",
        "714662"
       ]
      },
      {
       "output_type": "stream",
       "stream": "stdout",
       "text": [
        "\n"
       ]
      }
     ],
     "prompt_number": 3
    }
   ],
   "metadata": {}
  }
 ]
}