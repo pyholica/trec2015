{
 "metadata": {
  "name": "",
  "signature": "sha256:efeaf5f55272638b3bc3415a45c0b54aea2c668c831f048f4382c1822beb032f"
 },
 "nbformat": 3,
 "nbformat_minor": 0,
 "worksheets": [
  {
   "cells": [
    {
     "cell_type": "code",
     "collapsed": false,
     "input": [
      "\n",
      "# coding: utf-8\n",
      "\n",
      "# In[6]:\n",
      "\n",
      "from elasticsearch import Elasticsearch\n",
      "import os, re\n",
      "es = Elasticsearch([{'host':'210.107.192.201', 'port':9200}])\n",
      "\n",
      "\n",
      "# In[ ]:\n",
      "\n",
      "file = open('2014_mix_topic_final.csv', 'rb')\n",
      "newpath = './2014_mixed_topic_keyword/'\n",
      "if not os.path.exists(newpath): os.makedirs(newpath)\n",
      "    \n",
      "topics = file.readlines()\n",
      "cnt = 1\n",
      "for topic in topics:\n",
      "    topic = topic.lower()\n",
      "    \n",
      "    topic = re.sub('[^a-zA-Z0-9-_*.]', ' ', topic)\n",
      "    print(\"{} : \".format(cnt) + topic)\n",
      "    \n",
      "    \n",
      "    res = es.search(index=\"dfr_ngram_total_new\",doc_type=\"article\", q=topic\n",
      "                    ,size=10000\n",
      "                    ,request_timeout=1000000\n",
      "                    #,search_type=\"count\"\n",
      "                    ,fields=['pmcid'])\n",
      "    #print(res['hits']['hits'])\n",
      "    #total = res['hits']['total']\n",
      "    #size = total/10\n",
      "    \n",
      "    #print \"total : {0}\".format(total)\n",
      "    #print \"size : {0}\".format(size)\n",
      "    results = res['hits']['hits']\n",
      "    target = open(newpath+'topic{0}.csv'.format(cnt), 'w')\n",
      "    for result in results:\n",
      "        pmcid = str(result['fields']['pmcid'][0])\n",
      "\n",
      "        \n",
      "        print(pmcid)\n",
      "        target.write(pmcid + '\\n')\n",
      "    cnt += 1    \n",
      "    target.close()\n",
      "\n"
     ],
     "language": "python",
     "metadata": {},
     "outputs": []
    }
   ],
   "metadata": {}
  }
 ]
}