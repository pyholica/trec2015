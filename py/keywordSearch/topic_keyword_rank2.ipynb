{
 "metadata": {
  "name": "",
  "signature": "sha256:669f18dc4708bb7856a7da7c02884c2b257f452ebb70f5a9e39fab2f744a09fc"
 },
 "nbformat": 3,
 "nbformat_minor": 0,
 "worksheets": [
  {
   "cells": [
    {
     "cell_type": "code",
     "collapsed": false,
     "input": [
      "from elasticsearch import Elasticsearch\n",
      "import os\n",
      "es = Elasticsearch([{'host':'210.107.192.201', 'port':9200}])"
     ],
     "language": "python",
     "metadata": {},
     "outputs": [],
     "prompt_number": 6
    },
    {
     "cell_type": "code",
     "collapsed": false,
     "input": [
      "file = open('2015_description_topic.csv', 'rb')\n",
      "newpath = './2015topic_keyword/'\n",
      "if not os.path.exists(newpath): os.makedirs(newpath)\n",
      "    \n",
      "topics = file.readlines()\n",
      "cnt = 1\n",
      "for topic in topics:\n",
      "    topic = topic.lower()\n",
      "    \n",
      "    topic = re.sub('[^a-zA-Z0-9-_*.]', ' ', topic)\n",
      "    print(\"{} : \".format(cnt) + topic)\n",
      "    cnt += 1\n",
      "    \n",
      "    res = es.search(index=\"dfr_ngram_total_new\",doc_type=\"article\", q=topic\n",
      "                    #,size=100\n",
      "                    ,request_timeout=1000000\n",
      "                    #,search_type=\"count\"\n",
      "                    ,fields=['pmcid'])\n",
      "    #print(res['hits']['hits'])\n",
      "    total = res['hits']['total']\n",
      "    size = total/10\n",
      "    res = es.search(index=\"dfr_ngram_total_new\",doc_type=\"article\", q=topic\n",
      "                    ,size=size\n",
      "                    ,request_timeout=1000000\n",
      "                    #,search_type=\"count\"\n",
      "                    ,fields=['pmcid'])\n",
      "    print \"total : {0}\".format(total)\n",
      "    print \"size : {0}\".format(size)\n",
      "    results = res['hits']['hits']\n",
      "    target = open(newpath+'topic{0}.csv'.format(cnt), 'w')\n",
      "    for result in results:\n",
      "        pmcid = str(result['fields']['pmcid'])\n",
      "        \n",
      "        print(pmcid)\n",
      "        target.write(pmcid)\n",
      "        \n",
      "    target.close()"
     ],
     "language": "python",
     "metadata": {},
     "outputs": []
    },
    {
     "cell_type": "code",
     "collapsed": false,
     "input": [
      "file = open('2015_mix_topic_final.csv', 'rb')\n",
      "newpath = './2015_mix_topic_final/'\n",
      "if not os.path.exists(newpath): os.makedirs(newpath)\n",
      "    \n",
      "topics = file.readlines()\n",
      "cnt = 1\n",
      "for topic in topics:\n",
      "    topic = topic.lower()\n",
      "    \n",
      "    topic = re.sub('[^a-zA-Z0-9-_*.]', ' ', topic)\n",
      "    \n",
      "   \n",
      "    \n",
      "    res = es.search(index=\"dfr_ngram_total_new\",doc_type=\"article\", q=topic\n",
      "                    #,size=100\n",
      "                    ,request_timeout=1000000\n",
      "                    ,search_type=\"count\"\n",
      "                    ,fields=['pmcid'])\n",
      "    #print(res['hits']['hits'])\n",
      "    #total = res['hits']['total']\n",
      "    cnt += 1\n",
      "    print(res)"
     ],
     "language": "python",
     "metadata": {},
     "outputs": []
    }
   ],
   "metadata": {}
  }
 ]
}