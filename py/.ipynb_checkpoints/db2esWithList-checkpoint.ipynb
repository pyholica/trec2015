{
 "metadata": {
  "name": "",
  "signature": "sha256:d1f350f2b8a2176bcfe79df456ae6a600ad1f4adbcfedb0134cdfe8511a858da"
 },
 "nbformat": 3,
 "nbformat_minor": 0,
 "worksheets": [
  {
   "cells": [
    {
     "cell_type": "code",
     "collapsed": false,
     "input": [
      "\n",
      "# coding: utf-8\n",
      "\n",
      "\n",
      "from datetime import datetime\n",
      "from elasticsearch import Elasticsearch\n",
      "from pymongo import MongoClient\n",
      "import sys\n",
      "\n",
      "index_name = sys.argv[1]\n",
      "\n",
      "client = MongoClient('mongodb://localhost:27017')\n",
      "es = Elasticsearch([{'host':'localhost', 'port':9200}])\n",
      "\n",
      "db = client.trec\n",
      "\n",
      "collection = db.article\n",
      "\n",
      "#data = collection.find_one()\n",
      "cursor = collection.find()\n",
      "data = cursor.next()\n",
      "#obj = next(cursor, None)\n",
      "#data['pmcid']\n",
      "\n",
      "\n",
      "\n",
      "while(data):\n",
      "    try:\n",
      "        body = data['articleContent']\n",
      "        meta = data['articleMeta']\n",
      "    except:\n",
      "        print(\"no article\")\n",
      "\n",
      "    title = meta['title']\n",
      "    pmcid = meta['pmcid']\n",
      "    abstract = meta['abstractText']\n",
      "    abstractList = abstract['sectionList']\n",
      "    abstractdata = ''\n",
      "    for p in abstractList:\n",
      "        for key, value in p.items():\n",
      "          abstractdata += (value + \"\\n\")\n",
      "    bodyList = body['sectionList']\n",
      "    bodydata = ''\n",
      "    for p in bodyList:\n",
      "        for key, value in p.items():\n",
      "            bodydata += (value + \"\\n\")\n",
      "      #title = json.loads(dumps(data))['articleMeta']['title']\n",
      "      #section = json.loads(dumps(data))['articleContent']['sectionList']\n",
      "      #pmcid = json.loads(dumps(data))['articleMeta']['pmcid']\n",
      "\n",
      "      #print(pmcid)\n",
      "      #print(body)\n",
      "\n",
      "    input_D = {\n",
      "        'pmcid' : pmcid,\n",
      "        'title' : title,\n",
      "        'abstract' : abstractdata,\n",
      "        'body' : bodydata\n",
      "    }\n",
      "\n",
      "    input_D\n",
      "\n",
      "    res = es.index(index=index_name, doc_type='article', id=pmcid, body=input_D, timeout=5m)\n",
      "#print(res['created'])\n",
      "#res = es.get(index=\"trec\", doc_type='articleSmall', id=pmcid)\n",
      "#print(res['_source'])\n",
      "    try:\n",
      "        data = cursor.next()\n",
      "    except:\n",
      "        print(\"finished\")\n",
      "\n",
      "\n",
      "\n"
     ],
     "language": "python",
     "metadata": {},
     "outputs": []
    },
    {
     "cell_type": "code",
     "collapsed": false,
     "input": [
      "from datetime import datetime\n",
      "from elasticsearch import Elasticsearch\n",
      "from pymongo import MongoClient\n",
      "import sys\n",
      "\n",
      "index_name = sys.argv[1]\n",
      "\n",
      "client = MongoClient('mongodb://202.30.23.40:27017')\n",
      "es = Elasticsearch([{'host':'localhost', 'port':9200}])\n",
      "\n",
      "db = client.trec\n",
      "\n",
      "collection = db.article\n",
      "\n",
      "f = open('pmcidList_copy.csv', 'r')\n",
      "\n",
      "print(f.readline())\n",
      "pmcid = f.readline()\n",
      "\n",
      "#2768683\n",
      "\n",
      "#data = collection.find_one()\n",
      "data = collection.find_one({'articleMeta.pmcid':pmcid})\n",
      "data['articleMeta']['pmcid']"
     ],
     "language": "python",
     "metadata": {},
     "outputs": [
      {
       "output_type": "stream",
       "stream": "stdout",
       "text": [
        "2768683\n",
        "\n"
       ]
      }
     ],
     "prompt_number": 36
    },
    {
     "cell_type": "code",
     "collapsed": false,
     "input": [],
     "language": "python",
     "metadata": {},
     "outputs": [
      {
       "metadata": {},
       "output_type": "pyout",
       "prompt_number": 35,
       "text": [
        "'2771351\\n'"
       ]
      }
     ],
     "prompt_number": 35
    }
   ],
   "metadata": {}
  }
 ]
}