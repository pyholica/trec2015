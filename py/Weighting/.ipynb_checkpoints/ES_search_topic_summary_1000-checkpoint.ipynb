{
 "metadata": {
  "name": "",
  "signature": "sha256:90b2421d31efe8aa951c7a05ff45c9945493690052ad9a504297db8ec002da81"
 },
 "nbformat": 3,
 "nbformat_minor": 0,
 "worksheets": [
  {
   "cells": [
    {
     "cell_type": "code",
     "collapsed": false,
     "input": [
      "#from elasticsearch import Elasticsearch\n",
      "from ElasticSearching import ElasticSearching\n",
      "\n",
      "import csv\n",
      "import os\n",
      "import pandas as pd\n",
      "\n",
      "e = ElasticSearching()\n",
      "\n",
      "folder_name = \"./Weighting_queryexpansion/\"\n",
      "if not os.path.exists(folder_name): os.makedirs(folder_name)\n",
      "\n",
      "qryexps = open('2015_mix_topic_new.csv', 'rb')     \n",
      "qryexps_read = qryexps.readlines()\n",
      "qryexps_list = list(qryexps_read)\n",
      "qryexps.close()  \n",
      "#print(qryexps_list[0])\n",
      "\n",
      "def rank_drf_2015(topicNum):\n",
      "    folder_name = \"DFR_queryexpansion_1000\"\n",
      "    index_name = \"DFR summary\"\n",
      "    index_name2 = \"dfr_ngram_total_new\"\n",
      "    #analyzer_name = \"my_{0}_analyzer\".format(index_name)\n",
      "    #types = \"description\"\n",
      "    file_name = \"smry2015\"\n",
      "    types = \"summary\"\n",
      "\n",
      "    df = pd.read_csv('{0}.csv'.format(file_name))\n",
      "\n",
      "    if df.iloc[topicNum-1, 1]:\n",
      "        #print df.iloc[topicNum-1, 1]\n",
      "        query = df.iloc[topicNum-1, 1]\n",
      "    else:\n",
      "        print(\"no summary\")\n",
      "\n",
      "    newpath = './{0}/'.format(folder_name)\n",
      "    if not os.path.exists(newpath): os.makedirs(newpath)\n",
      "    title = \"{0}{1}.csv\".format(index_name, topicNum)\n",
      "    #print(title)\n",
      "    label = \"topicNum, rank, pmcid, score\"\n",
      "    print(label)\n",
      "    target = open(newpath+title, 'w')\n",
      "    target.write(label + '\\n')\n",
      "    qry_expansion = qryexps_list[topicNum-1]\n",
      "    query = query + \" \" + qry_expansion\n",
      "    query = query.lower()\n",
      "    query = query.replace(r\"/\",',')\n",
      "    query = query.replace(r\"[\",' ')\n",
      "    query = query.replace(r\"]\",' ')\n",
      "    print(query)\n",
      "    #result = e.search(q,'summary','dfr',0.3,0.3,0.4)\n",
      "    result = e.search(query, 'dfr_2014_sample', 0.727, 0.273, 0)\n",
      "\n",
      "    pmcid_data =  result['pmcid'] \n",
      "    score_data =  result['score']\n",
      "    \n",
      "    data = \"{0} {1}\".format(pmcid_data, score_data)\n",
      "    print(data)\n",
      "    \n",
      "    \n",
      "    \n",
      "    \n",
      "    target = open(folder_name + \"weighting_topic{0}\".format(topicNum))\n",
      "    target.write(data)\n",
      "    target.close()\n",
      "\n",
      "    \n",
      "for i in range(1, 31):\n",
      "    rank_drf_2015(i)\n"
     ],
     "language": "python",
     "metadata": {},
     "outputs": [
      {
       "ename": "WindowsError",
       "evalue": "[Error 183] : './Weighting_queryexpansion/'",
       "output_type": "pyerr",
       "traceback": [
        "\u001b[1;31m---------------------------------------------------------------------------\u001b[0m\n\u001b[1;31mWindowsError\u001b[0m                              Traceback (most recent call last)",
        "\u001b[1;32m<ipython-input-3-f1f6af14d6ea>\u001b[0m in \u001b[0;36m<module>\u001b[1;34m()\u001b[0m\n\u001b[0;32m      9\u001b[0m \u001b[1;33m\u001b[0m\u001b[0m\n\u001b[0;32m     10\u001b[0m \u001b[0mfolder_name\u001b[0m \u001b[1;33m=\u001b[0m \u001b[1;34m\"./Weighting_queryexpansion/\"\u001b[0m\u001b[1;33m\u001b[0m\u001b[0m\n\u001b[1;32m---> 11\u001b[1;33m \u001b[0mos\u001b[0m\u001b[1;33m.\u001b[0m\u001b[0mmkdir\u001b[0m\u001b[1;33m(\u001b[0m\u001b[0mfolder_name\u001b[0m\u001b[1;33m)\u001b[0m\u001b[1;33m\u001b[0m\u001b[0m\n\u001b[0m\u001b[0;32m     12\u001b[0m \u001b[1;33m\u001b[0m\u001b[0m\n\u001b[0;32m     13\u001b[0m \u001b[0mqryexps\u001b[0m \u001b[1;33m=\u001b[0m \u001b[0mopen\u001b[0m\u001b[1;33m(\u001b[0m\u001b[1;34m'2015_mix_topic_new.csv'\u001b[0m\u001b[1;33m,\u001b[0m \u001b[1;34m'rb'\u001b[0m\u001b[1;33m)\u001b[0m\u001b[1;33m\u001b[0m\u001b[0m\n",
        "\u001b[1;31mWindowsError\u001b[0m: [Error 183] : './Weighting_queryexpansion/'"
       ]
      }
     ],
     "prompt_number": 3
    }
   ],
   "metadata": {}
  }
 ]
}