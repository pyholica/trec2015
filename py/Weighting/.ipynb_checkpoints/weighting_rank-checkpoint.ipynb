{
 "metadata": {
  "name": "",
  "signature": "sha256:3034f8c05257abc281335dc2f1f33bb3c54b031314130a51502c09c09dd640d0"
 },
 "nbformat": 3,
 "nbformat_minor": 0,
 "worksheets": [
  {
   "cells": [
    {
     "cell_type": "code",
     "collapsed": false,
     "input": [
      "import ElasticSearching"
     ],
     "language": "python",
     "metadata": {},
     "outputs": [],
     "prompt_number": 3
    },
    {
     "cell_type": "code",
     "collapsed": false,
     "input": [
      "e = ElasticSearch()\n",
      "#result = e.search(q,'summary','dfr',0.3,0.3,0.4)\n",
      "result = e.search(q,'summary','dfr_2014_sample',0.727,0.273,0)\n",
      "\n",
      "print result['pmcid']\n",
      "print result['score']"
     ],
     "language": "python",
     "metadata": {},
     "outputs": []
    },
    {
     "cell_type": "code",
     "collapsed": false,
     "input": [
      "self.field_weight = {('ib',0.732,0.267), \n",
      "                             ('tfidf',0.665,0.334), \n",
      "                             ('lmd',0.901,0.098), \n",
      "                             ('lmj',0.748,0.251), \n",
      "                             ('bm25',0.745,0.254) , \n",
      "                             ('dfr',0.727,0.273)"
     ],
     "language": "python",
     "metadata": {},
     "outputs": []
    }
   ],
   "metadata": {}
  }
 ]
}