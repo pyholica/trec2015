{
 "metadata": {
  "name": "",
  "signature": "sha256:02f34d0b30b4bda4ff74d490b8eda21861e32c2d84b8c8f2a9bb9250a0e65594"
 },
 "nbformat": 3,
 "nbformat_minor": 0,
 "worksheets": [
  {
   "cells": [
    {
     "cell_type": "code",
     "collapsed": false,
     "input": [
      "from elasticsearch import Elasticsearch\n",
      "es = Elasticsearch([{'host':'210.107.192.201', 'port':9200}])\n",
      "import csv\n",
      "import os\n",
      "import pandas as pd\n",
      "\n",
      "folder_name = \"DFR_summary_weight136_2014\"\n",
      "index_name = \"DFR\"\n",
      "index_name2 = \"dfr_2014_weight_1_3_6\"\n",
      "analyzer_name = \"my_DFR_analyzer\"\n",
      "#types = \"description\"\n",
      "types = \"summary\"\n",
      "#df = pd.read_csv('2014_mix_topic.csv')   \n",
      "\n",
      "qryexps = open('2014_mix_topic_new.csv', 'rb')     \n",
      "qryexps_read = qryexps.readlines()\n",
      "qryexps_list = list(qryexps_read)\n",
      "qryexps.close()  \n",
      "\n",
      "\n",
      "with open('{0}.csv'.format(types), 'rb') as csvfile:\n",
      "    reader = csv.DictReader(csvfile)\n",
      "    for inx, item in enumerate(reader):\n",
      "        \n",
      "        newpath = './{0}/'.format(folder_name)\n",
      "        if not os.path.exists(newpath): os.makedirs(newpath)\n",
      "        title = \"{0} {1}{2}.csv\".format(index_name, types, inx+1)\n",
      "        print(title)\n",
      "        label = \"rank, pmcid, score\"\n",
      "        print(label)\n",
      "        target = open(newpath+title, 'w')\n",
      "        target.write(label + '\\n')\n",
      "        query = item[types]\n",
      "        query_expanse = qryexps_list[inx]\n",
      "        query = query + query_expanse\n",
      "        query = query.lower()\n",
      "        query = query.replace(r\"/\",',')\n",
      "        query = query.replace(r\"[\",' ')\n",
      "        query = query.replace(r\"]\",' ')\n",
      "        print(query)\n",
      "        res = es.search(index=index_name2,doc_type=\"article\", q=query, analyzer=analyzer_name, size=400, request_timeout=100000)\n",
      "        count = 0\n",
      "        for doc in res['hits']['hits']:\n",
      "            count += 1\n",
      "            text = '{0}, {1}, {2}'.format(count,doc['_source']['pmcid'],doc['_score'] )\n",
      "            print (text)\n",
      "            target.write(text + '\\n')\n",
      "        target.close()"
     ],
     "language": "python",
     "metadata": {},
     "outputs": [
      {
       "output_type": "stream",
       "stream": "stderr",
       "text": [
        "WARNING:elasticsearch:GET http://210.107.192.201:9200/dfr_2014_weight_1_3_6/article/_search?q=58-year-old+woman+with+hypertension+and+obesity+presents+with+exercise-related+episodic+chest+pain+radiating+to+the+back.chest+pain+radiating%2Cekg%2Chypercholesterolemia%2Cburning+chest%2Cdyspnea%2Cheart%2Crelated%2Cburning%2Cnausea%2Chypercholesterolaemia%2Cdiaphoresis%2Cdiabetes%2Cfamily+history+of+disease%2Cpressing+pain%2Cobesity%2Chypertension%2Cpain+nos%2Cpain%2C%2C%2C%2C%2C%2C%2C%0D%0A&analyzer=my_DFR_analyzer&size=400 [status:N/A request:10.009s]\n",
        "Traceback (most recent call last):\n",
        "  File \"/Users/woojin/anaconda/lib/python2.7/site-packages/elasticsearch/connection/http_urllib3.py\", line 74, in perform_request\n",
        "    response = self.pool.urlopen(method, url, body, retries=False, headers=self.headers, **kw)\n",
        "  File \"/Users/woojin/anaconda/lib/python2.7/site-packages/urllib3/connectionpool.py\", line 597, in urlopen\n",
        "    _stacktrace=sys.exc_info()[2])\n",
        "  File \"/Users/woojin/anaconda/lib/python2.7/site-packages/urllib3/util/retry.py\", line 222, in increment\n",
        "    raise six.reraise(type(error), error, _stacktrace)\n",
        "  File \"/Users/woojin/anaconda/lib/python2.7/site-packages/urllib3/connectionpool.py\", line 544, in urlopen\n",
        "    body=body, headers=headers)\n",
        "  File \"/Users/woojin/anaconda/lib/python2.7/site-packages/urllib3/connectionpool.py\", line 376, in _make_request\n",
        "    self._raise_timeout(err=e, url=url, timeout_value=read_timeout)\n",
        "  File \"/Users/woojin/anaconda/lib/python2.7/site-packages/urllib3/connectionpool.py\", line 304, in _raise_timeout\n",
        "    raise ReadTimeoutError(self, url, \"Read timed out. (read timeout=%s)\" % timeout_value)\n",
        "ReadTimeoutError: HTTPConnectionPool(host='210.107.192.201', port=9200): Read timed out. (read timeout=10)\n"
       ]
      },
      {
       "output_type": "stream",
       "stream": "stdout",
       "text": [
        "DFR summary1.csv\n",
        "rank, pmcid, score\n",
        "58-year-old woman with hypertension and obesity presents with exercise-related episodic chest pain radiating to the back.chest pain radiating,ekg,hypercholesterolemia,burning chest,dyspnea,heart,related,burning,nausea,hypercholesterolaemia,diaphoresis,diabetes,family history of disease,pressing pain,obesity,hypertension,pain nos,pain,,,,,,,\r\n",
        "\n"
       ]
      },
      {
       "ename": "ConnectionTimeout",
       "evalue": "ConnectionTimeout caused by - ReadTimeoutError(HTTPConnectionPool(host='210.107.192.201', port=9200): Read timed out. (read timeout=10))",
       "output_type": "pyerr",
       "traceback": [
        "\u001b[0;31m---------------------------------------------------------------------------\u001b[0m\n\u001b[0;31mConnectionTimeout\u001b[0m                         Traceback (most recent call last)",
        "\u001b[0;32m<ipython-input-2-84378fbc9391>\u001b[0m in \u001b[0;36m<module>\u001b[0;34m()\u001b[0m\n\u001b[1;32m     39\u001b[0m         \u001b[0mquery\u001b[0m \u001b[0;34m=\u001b[0m \u001b[0mquery\u001b[0m\u001b[0;34m.\u001b[0m\u001b[0mreplace\u001b[0m\u001b[0;34m(\u001b[0m\u001b[0;34mr\"]\"\u001b[0m\u001b[0;34m,\u001b[0m\u001b[0;34m' '\u001b[0m\u001b[0;34m)\u001b[0m\u001b[0;34m\u001b[0m\u001b[0m\n\u001b[1;32m     40\u001b[0m         \u001b[0;32mprint\u001b[0m\u001b[0;34m(\u001b[0m\u001b[0mquery\u001b[0m\u001b[0;34m)\u001b[0m\u001b[0;34m\u001b[0m\u001b[0m\n\u001b[0;32m---> 41\u001b[0;31m         \u001b[0mres\u001b[0m \u001b[0;34m=\u001b[0m \u001b[0mes\u001b[0m\u001b[0;34m.\u001b[0m\u001b[0msearch\u001b[0m\u001b[0;34m(\u001b[0m\u001b[0mindex\u001b[0m\u001b[0;34m=\u001b[0m\u001b[0mindex_name2\u001b[0m\u001b[0;34m,\u001b[0m\u001b[0mdoc_type\u001b[0m\u001b[0;34m=\u001b[0m\u001b[0;34m\"article\"\u001b[0m\u001b[0;34m,\u001b[0m \u001b[0mq\u001b[0m\u001b[0;34m=\u001b[0m\u001b[0mquery\u001b[0m\u001b[0;34m,\u001b[0m \u001b[0manalyzer\u001b[0m\u001b[0;34m=\u001b[0m\u001b[0manalyzer_name\u001b[0m\u001b[0;34m,\u001b[0m \u001b[0msize\u001b[0m\u001b[0;34m=\u001b[0m\u001b[0;36m400\u001b[0m\u001b[0;34m)\u001b[0m\u001b[0;34m\u001b[0m\u001b[0m\n\u001b[0m\u001b[1;32m     42\u001b[0m         \u001b[0mcount\u001b[0m \u001b[0;34m=\u001b[0m \u001b[0;36m0\u001b[0m\u001b[0;34m\u001b[0m\u001b[0m\n\u001b[1;32m     43\u001b[0m         \u001b[0;32mfor\u001b[0m \u001b[0mdoc\u001b[0m \u001b[0;32min\u001b[0m \u001b[0mres\u001b[0m\u001b[0;34m[\u001b[0m\u001b[0;34m'hits'\u001b[0m\u001b[0;34m]\u001b[0m\u001b[0;34m[\u001b[0m\u001b[0;34m'hits'\u001b[0m\u001b[0;34m]\u001b[0m\u001b[0;34m:\u001b[0m\u001b[0;34m\u001b[0m\u001b[0m\n",
        "\u001b[0;32m/Users/woojin/anaconda/lib/python2.7/site-packages/elasticsearch/client/utils.pyc\u001b[0m in \u001b[0;36m_wrapped\u001b[0;34m(*args, **kwargs)\u001b[0m\n\u001b[1;32m     67\u001b[0m                 \u001b[0;32mif\u001b[0m \u001b[0mp\u001b[0m \u001b[0;32min\u001b[0m \u001b[0mkwargs\u001b[0m\u001b[0;34m:\u001b[0m\u001b[0;34m\u001b[0m\u001b[0m\n\u001b[1;32m     68\u001b[0m                     \u001b[0mparams\u001b[0m\u001b[0;34m[\u001b[0m\u001b[0mp\u001b[0m\u001b[0;34m]\u001b[0m \u001b[0;34m=\u001b[0m \u001b[0mkwargs\u001b[0m\u001b[0;34m.\u001b[0m\u001b[0mpop\u001b[0m\u001b[0;34m(\u001b[0m\u001b[0mp\u001b[0m\u001b[0;34m)\u001b[0m\u001b[0;34m\u001b[0m\u001b[0m\n\u001b[0;32m---> 69\u001b[0;31m             \u001b[0;32mreturn\u001b[0m \u001b[0mfunc\u001b[0m\u001b[0;34m(\u001b[0m\u001b[0;34m*\u001b[0m\u001b[0margs\u001b[0m\u001b[0;34m,\u001b[0m \u001b[0mparams\u001b[0m\u001b[0;34m=\u001b[0m\u001b[0mparams\u001b[0m\u001b[0;34m,\u001b[0m \u001b[0;34m**\u001b[0m\u001b[0mkwargs\u001b[0m\u001b[0;34m)\u001b[0m\u001b[0;34m\u001b[0m\u001b[0m\n\u001b[0m\u001b[1;32m     70\u001b[0m         \u001b[0;32mreturn\u001b[0m \u001b[0m_wrapped\u001b[0m\u001b[0;34m\u001b[0m\u001b[0m\n\u001b[1;32m     71\u001b[0m     \u001b[0;32mreturn\u001b[0m \u001b[0m_wrapper\u001b[0m\u001b[0;34m\u001b[0m\u001b[0m\n",
        "\u001b[0;32m/Users/woojin/anaconda/lib/python2.7/site-packages/elasticsearch/client/__init__.pyc\u001b[0m in \u001b[0;36msearch\u001b[0;34m(self, index, doc_type, body, params)\u001b[0m\n\u001b[1;32m    504\u001b[0m             \u001b[0mindex\u001b[0m \u001b[0;34m=\u001b[0m \u001b[0;34m'_all'\u001b[0m\u001b[0;34m\u001b[0m\u001b[0m\n\u001b[1;32m    505\u001b[0m         _, data = self.transport.perform_request('GET', _make_path(index, doc_type, '_search'),\n\u001b[0;32m--> 506\u001b[0;31m             params=params, body=body)\n\u001b[0m\u001b[1;32m    507\u001b[0m         \u001b[0;32mreturn\u001b[0m \u001b[0mdata\u001b[0m\u001b[0;34m\u001b[0m\u001b[0m\n\u001b[1;32m    508\u001b[0m \u001b[0;34m\u001b[0m\u001b[0m\n",
        "\u001b[0;32m/Users/woojin/anaconda/lib/python2.7/site-packages/elasticsearch/transport.pyc\u001b[0m in \u001b[0;36mperform_request\u001b[0;34m(self, method, url, params, body)\u001b[0m\n\u001b[1;32m    305\u001b[0m \u001b[0;34m\u001b[0m\u001b[0m\n\u001b[1;32m    306\u001b[0m             \u001b[0;32mtry\u001b[0m\u001b[0;34m:\u001b[0m\u001b[0;34m\u001b[0m\u001b[0m\n\u001b[0;32m--> 307\u001b[0;31m                 \u001b[0mstatus\u001b[0m\u001b[0;34m,\u001b[0m \u001b[0mheaders\u001b[0m\u001b[0;34m,\u001b[0m \u001b[0mdata\u001b[0m \u001b[0;34m=\u001b[0m \u001b[0mconnection\u001b[0m\u001b[0;34m.\u001b[0m\u001b[0mperform_request\u001b[0m\u001b[0;34m(\u001b[0m\u001b[0mmethod\u001b[0m\u001b[0;34m,\u001b[0m \u001b[0murl\u001b[0m\u001b[0;34m,\u001b[0m \u001b[0mparams\u001b[0m\u001b[0;34m,\u001b[0m \u001b[0mbody\u001b[0m\u001b[0;34m,\u001b[0m \u001b[0mignore\u001b[0m\u001b[0;34m=\u001b[0m\u001b[0mignore\u001b[0m\u001b[0;34m,\u001b[0m \u001b[0mtimeout\u001b[0m\u001b[0;34m=\u001b[0m\u001b[0mtimeout\u001b[0m\u001b[0;34m)\u001b[0m\u001b[0;34m\u001b[0m\u001b[0m\n\u001b[0m\u001b[1;32m    308\u001b[0m \u001b[0;34m\u001b[0m\u001b[0m\n\u001b[1;32m    309\u001b[0m             \u001b[0;32mexcept\u001b[0m \u001b[0mTransportError\u001b[0m \u001b[0;32mas\u001b[0m \u001b[0me\u001b[0m\u001b[0;34m:\u001b[0m\u001b[0;34m\u001b[0m\u001b[0m\n",
        "\u001b[0;32m/Users/woojin/anaconda/lib/python2.7/site-packages/elasticsearch/connection/http_urllib3.pyc\u001b[0m in \u001b[0;36mperform_request\u001b[0;34m(self, method, url, params, body, timeout, ignore)\u001b[0m\n\u001b[1;32m     80\u001b[0m         \u001b[0;32mexcept\u001b[0m \u001b[0mReadTimeoutError\u001b[0m \u001b[0;32mas\u001b[0m \u001b[0me\u001b[0m\u001b[0;34m:\u001b[0m\u001b[0;34m\u001b[0m\u001b[0m\n\u001b[1;32m     81\u001b[0m             \u001b[0mself\u001b[0m\u001b[0;34m.\u001b[0m\u001b[0mlog_request_fail\u001b[0m\u001b[0;34m(\u001b[0m\u001b[0mmethod\u001b[0m\u001b[0;34m,\u001b[0m \u001b[0mfull_url\u001b[0m\u001b[0;34m,\u001b[0m \u001b[0mbody\u001b[0m\u001b[0;34m,\u001b[0m \u001b[0mtime\u001b[0m\u001b[0;34m.\u001b[0m\u001b[0mtime\u001b[0m\u001b[0;34m(\u001b[0m\u001b[0;34m)\u001b[0m \u001b[0;34m-\u001b[0m \u001b[0mstart\u001b[0m\u001b[0;34m,\u001b[0m \u001b[0mexception\u001b[0m\u001b[0;34m=\u001b[0m\u001b[0me\u001b[0m\u001b[0;34m)\u001b[0m\u001b[0;34m\u001b[0m\u001b[0m\n\u001b[0;32m---> 82\u001b[0;31m             \u001b[0;32mraise\u001b[0m \u001b[0mConnectionTimeout\u001b[0m\u001b[0;34m(\u001b[0m\u001b[0;34m'TIMEOUT'\u001b[0m\u001b[0;34m,\u001b[0m \u001b[0mstr\u001b[0m\u001b[0;34m(\u001b[0m\u001b[0me\u001b[0m\u001b[0;34m)\u001b[0m\u001b[0;34m,\u001b[0m \u001b[0me\u001b[0m\u001b[0;34m)\u001b[0m\u001b[0;34m\u001b[0m\u001b[0m\n\u001b[0m\u001b[1;32m     83\u001b[0m         \u001b[0;32mexcept\u001b[0m \u001b[0mException\u001b[0m \u001b[0;32mas\u001b[0m \u001b[0me\u001b[0m\u001b[0;34m:\u001b[0m\u001b[0;34m\u001b[0m\u001b[0m\n\u001b[1;32m     84\u001b[0m             \u001b[0mself\u001b[0m\u001b[0;34m.\u001b[0m\u001b[0mlog_request_fail\u001b[0m\u001b[0;34m(\u001b[0m\u001b[0mmethod\u001b[0m\u001b[0;34m,\u001b[0m \u001b[0mfull_url\u001b[0m\u001b[0;34m,\u001b[0m \u001b[0mbody\u001b[0m\u001b[0;34m,\u001b[0m \u001b[0mtime\u001b[0m\u001b[0;34m.\u001b[0m\u001b[0mtime\u001b[0m\u001b[0;34m(\u001b[0m\u001b[0;34m)\u001b[0m \u001b[0;34m-\u001b[0m \u001b[0mstart\u001b[0m\u001b[0;34m,\u001b[0m \u001b[0mexception\u001b[0m\u001b[0;34m=\u001b[0m\u001b[0me\u001b[0m\u001b[0;34m)\u001b[0m\u001b[0;34m\u001b[0m\u001b[0m\n",
        "\u001b[0;31mConnectionTimeout\u001b[0m: ConnectionTimeout caused by - ReadTimeoutError(HTTPConnectionPool(host='210.107.192.201', port=9200): Read timed out. (read timeout=10))"
       ]
      }
     ],
     "prompt_number": 2
    }
   ],
   "metadata": {}
  }
 ]
}