{
 "metadata": {
  "name": "",
  "signature": "sha256:ee9539d3bf696174718922af5f199cc323ebb329dbb91aa8b6dc5d8bcc91dafa"
 },
 "nbformat": 3,
 "nbformat_minor": 0,
 "worksheets": [
  {
   "cells": [
    {
     "cell_type": "code",
     "collapsed": false,
     "input": [
      "import pandas as pd\n",
      "import numpy as np\n",
      "import matplotlib.pyplot as plt"
     ],
     "language": "python",
     "metadata": {},
     "outputs": [],
     "prompt_number": 2
    },
    {
     "cell_type": "code",
     "collapsed": false,
     "input": [
      "dates = pd.date_range('20130101', periods=6)\n",
      "print(dates)"
     ],
     "language": "python",
     "metadata": {},
     "outputs": []
    },
    {
     "cell_type": "code",
     "collapsed": false,
     "input": [
      "df = pd.DataFrame(np.random.randn(6,4), index=dates, columns=list('ABCD'))\n",
      "df"
     ],
     "language": "python",
     "metadata": {},
     "outputs": [
      {
       "html": [
        "<div style=\"max-height:1000px;max-width:1500px;overflow:auto;\">\n",
        "<table border=\"1\" class=\"dataframe\">\n",
        "  <thead>\n",
        "    <tr style=\"text-align: right;\">\n",
        "      <th></th>\n",
        "      <th>A</th>\n",
        "      <th>B</th>\n",
        "      <th>C</th>\n",
        "      <th>D</th>\n",
        "    </tr>\n",
        "  </thead>\n",
        "  <tbody>\n",
        "    <tr>\n",
        "      <th>2013-01-01</th>\n",
        "      <td> 0.768288</td>\n",
        "      <td> 0.825438</td>\n",
        "      <td>-0.194348</td>\n",
        "      <td>-0.525068</td>\n",
        "    </tr>\n",
        "    <tr>\n",
        "      <th>2013-01-02</th>\n",
        "      <td> 0.667217</td>\n",
        "      <td>-1.399571</td>\n",
        "      <td>-0.559452</td>\n",
        "      <td>-0.335808</td>\n",
        "    </tr>\n",
        "    <tr>\n",
        "      <th>2013-01-03</th>\n",
        "      <td>-0.024938</td>\n",
        "      <td> 0.567187</td>\n",
        "      <td>-0.182391</td>\n",
        "      <td> 0.897209</td>\n",
        "    </tr>\n",
        "    <tr>\n",
        "      <th>2013-01-04</th>\n",
        "      <td> 1.067104</td>\n",
        "      <td>-0.397615</td>\n",
        "      <td> 1.078970</td>\n",
        "      <td>-1.431982</td>\n",
        "    </tr>\n",
        "    <tr>\n",
        "      <th>2013-01-05</th>\n",
        "      <td> 1.538017</td>\n",
        "      <td> 0.630515</td>\n",
        "      <td> 0.054274</td>\n",
        "      <td>-0.630155</td>\n",
        "    </tr>\n",
        "    <tr>\n",
        "      <th>2013-01-06</th>\n",
        "      <td>-0.714654</td>\n",
        "      <td>-0.969771</td>\n",
        "      <td>-0.692111</td>\n",
        "      <td>-0.732873</td>\n",
        "    </tr>\n",
        "  </tbody>\n",
        "</table>\n",
        "</div>"
       ],
       "metadata": {},
       "output_type": "pyout",
       "prompt_number": 8,
       "text": [
        "                   A         B         C         D\n",
        "2013-01-01  0.768288  0.825438 -0.194348 -0.525068\n",
        "2013-01-02  0.667217 -1.399571 -0.559452 -0.335808\n",
        "2013-01-03 -0.024938  0.567187 -0.182391  0.897209\n",
        "2013-01-04  1.067104 -0.397615  1.078970 -1.431982\n",
        "2013-01-05  1.538017  0.630515  0.054274 -0.630155\n",
        "2013-01-06 -0.714654 -0.969771 -0.692111 -0.732873"
       ]
      }
     ],
     "prompt_number": 8
    },
    {
     "cell_type": "code",
     "collapsed": false,
     "input": [
      "np.random.rand(6,4)"
     ],
     "language": "python",
     "metadata": {},
     "outputs": [
      {
       "metadata": {},
       "output_type": "pyout",
       "prompt_number": 9,
       "text": [
        "array([[ 0.24965768,  0.65729672,  0.65062597,  0.27768835],\n",
        "       [ 0.88353045,  0.18674612,  0.58306544,  0.21822181],\n",
        "       [ 0.91065142,  0.84705008,  0.02464274,  0.5311923 ],\n",
        "       [ 0.97583224,  0.91245845,  0.29855218,  0.51525938],\n",
        "       [ 0.64862208,  0.13953899,  0.19293658,  0.32045357],\n",
        "       [ 0.98750716,  0.24111695,  0.53881699,  0.08511414]])"
       ]
      }
     ],
     "prompt_number": 9
    },
    {
     "cell_type": "code",
     "collapsed": false,
     "input": [
      "df2 = pd.DataFrame({'a': 1\n",
      "                    ,'b': pd.Timestamp(\"20150716\")\n",
      "                    , 'c': pd.Series(1, index=list(range(4)) )})\n",
      "df2"
     ],
     "language": "python",
     "metadata": {},
     "outputs": [
      {
       "html": [
        "<div style=\"max-height:1000px;max-width:1500px;overflow:auto;\">\n",
        "<table border=\"1\" class=\"dataframe\">\n",
        "  <thead>\n",
        "    <tr style=\"text-align: right;\">\n",
        "      <th></th>\n",
        "      <th>a</th>\n",
        "      <th>b</th>\n",
        "      <th>c</th>\n",
        "    </tr>\n",
        "  </thead>\n",
        "  <tbody>\n",
        "    <tr>\n",
        "      <th>0</th>\n",
        "      <td> 1</td>\n",
        "      <td>2015-07-16</td>\n",
        "      <td> 1</td>\n",
        "    </tr>\n",
        "    <tr>\n",
        "      <th>1</th>\n",
        "      <td> 1</td>\n",
        "      <td>2015-07-16</td>\n",
        "      <td> 1</td>\n",
        "    </tr>\n",
        "    <tr>\n",
        "      <th>2</th>\n",
        "      <td> 1</td>\n",
        "      <td>2015-07-16</td>\n",
        "      <td> 1</td>\n",
        "    </tr>\n",
        "    <tr>\n",
        "      <th>3</th>\n",
        "      <td> 1</td>\n",
        "      <td>2015-07-16</td>\n",
        "      <td> 1</td>\n",
        "    </tr>\n",
        "  </tbody>\n",
        "</table>\n",
        "</div>"
       ],
       "metadata": {},
       "output_type": "pyout",
       "prompt_number": 16,
       "text": [
        "   a          b  c\n",
        "0  1 2015-07-16  1\n",
        "1  1 2015-07-16  1\n",
        "2  1 2015-07-16  1\n",
        "3  1 2015-07-16  1"
       ]
      }
     ],
     "prompt_number": 16
    },
    {
     "cell_type": "code",
     "collapsed": false,
     "input": [
      "df2.dtypes"
     ],
     "language": "python",
     "metadata": {},
     "outputs": [
      {
       "metadata": {},
       "output_type": "pyout",
       "prompt_number": 18,
       "text": [
        "a             int64\n",
        "b    datetime64[ns]\n",
        "c             int64\n",
        "dtype: object"
       ]
      }
     ],
     "prompt_number": 18
    },
    {
     "cell_type": "code",
     "collapsed": false,
     "input": [
      "df.describe()"
     ],
     "language": "python",
     "metadata": {},
     "outputs": [
      {
       "html": [
        "<div style=\"max-height:1000px;max-width:1500px;overflow:auto;\">\n",
        "<table border=\"1\" class=\"dataframe\">\n",
        "  <thead>\n",
        "    <tr style=\"text-align: right;\">\n",
        "      <th></th>\n",
        "      <th>A</th>\n",
        "      <th>B</th>\n",
        "      <th>C</th>\n",
        "      <th>D</th>\n",
        "    </tr>\n",
        "  </thead>\n",
        "  <tbody>\n",
        "    <tr>\n",
        "      <th>count</th>\n",
        "      <td> 6.000000</td>\n",
        "      <td> 6.000000</td>\n",
        "      <td> 6.000000</td>\n",
        "      <td> 6.000000</td>\n",
        "    </tr>\n",
        "    <tr>\n",
        "      <th>mean</th>\n",
        "      <td> 0.550172</td>\n",
        "      <td>-0.123969</td>\n",
        "      <td>-0.082510</td>\n",
        "      <td>-0.459780</td>\n",
        "    </tr>\n",
        "    <tr>\n",
        "      <th>std</th>\n",
        "      <td> 0.804347</td>\n",
        "      <td> 0.934424</td>\n",
        "      <td> 0.630764</td>\n",
        "      <td> 0.762868</td>\n",
        "    </tr>\n",
        "    <tr>\n",
        "      <th>min</th>\n",
        "      <td>-0.714654</td>\n",
        "      <td>-1.399571</td>\n",
        "      <td>-0.692111</td>\n",
        "      <td>-1.431982</td>\n",
        "    </tr>\n",
        "    <tr>\n",
        "      <th>25%</th>\n",
        "      <td> 0.148100</td>\n",
        "      <td>-0.826732</td>\n",
        "      <td>-0.468176</td>\n",
        "      <td>-0.707193</td>\n",
        "    </tr>\n",
        "    <tr>\n",
        "      <th>50%</th>\n",
        "      <td> 0.717753</td>\n",
        "      <td> 0.084786</td>\n",
        "      <td>-0.188370</td>\n",
        "      <td>-0.577612</td>\n",
        "    </tr>\n",
        "    <tr>\n",
        "      <th>75%</th>\n",
        "      <td> 0.992400</td>\n",
        "      <td> 0.614683</td>\n",
        "      <td>-0.004892</td>\n",
        "      <td>-0.383123</td>\n",
        "    </tr>\n",
        "    <tr>\n",
        "      <th>max</th>\n",
        "      <td> 1.538017</td>\n",
        "      <td> 0.825438</td>\n",
        "      <td> 1.078970</td>\n",
        "      <td> 0.897209</td>\n",
        "    </tr>\n",
        "  </tbody>\n",
        "</table>\n",
        "</div>"
       ],
       "metadata": {},
       "output_type": "pyout",
       "prompt_number": 21,
       "text": [
        "              A         B         C         D\n",
        "count  6.000000  6.000000  6.000000  6.000000\n",
        "mean   0.550172 -0.123969 -0.082510 -0.459780\n",
        "std    0.804347  0.934424  0.630764  0.762868\n",
        "min   -0.714654 -1.399571 -0.692111 -1.431982\n",
        "25%    0.148100 -0.826732 -0.468176 -0.707193\n",
        "50%    0.717753  0.084786 -0.188370 -0.577612\n",
        "75%    0.992400  0.614683 -0.004892 -0.383123\n",
        "max    1.538017  0.825438  1.078970  0.897209"
       ]
      }
     ],
     "prompt_number": 21
    },
    {
     "cell_type": "code",
     "collapsed": false,
     "input": [
      "df[1:4]"
     ],
     "language": "python",
     "metadata": {},
     "outputs": [
      {
       "html": [
        "<div style=\"max-height:1000px;max-width:1500px;overflow:auto;\">\n",
        "<table border=\"1\" class=\"dataframe\">\n",
        "  <thead>\n",
        "    <tr style=\"text-align: right;\">\n",
        "      <th></th>\n",
        "      <th>A</th>\n",
        "      <th>B</th>\n",
        "      <th>C</th>\n",
        "      <th>D</th>\n",
        "    </tr>\n",
        "  </thead>\n",
        "  <tbody>\n",
        "    <tr>\n",
        "      <th>2013-01-02</th>\n",
        "      <td> 0.667217</td>\n",
        "      <td>-1.399571</td>\n",
        "      <td>-0.559452</td>\n",
        "      <td>-0.335808</td>\n",
        "    </tr>\n",
        "    <tr>\n",
        "      <th>2013-01-03</th>\n",
        "      <td>-0.024938</td>\n",
        "      <td> 0.567187</td>\n",
        "      <td>-0.182391</td>\n",
        "      <td> 0.897209</td>\n",
        "    </tr>\n",
        "    <tr>\n",
        "      <th>2013-01-04</th>\n",
        "      <td> 1.067104</td>\n",
        "      <td>-0.397615</td>\n",
        "      <td> 1.078970</td>\n",
        "      <td>-1.431982</td>\n",
        "    </tr>\n",
        "  </tbody>\n",
        "</table>\n",
        "</div>"
       ],
       "metadata": {},
       "output_type": "pyout",
       "prompt_number": 31,
       "text": [
        "                   A         B         C         D\n",
        "2013-01-02  0.667217 -1.399571 -0.559452 -0.335808\n",
        "2013-01-03 -0.024938  0.567187 -0.182391  0.897209\n",
        "2013-01-04  1.067104 -0.397615  1.078970 -1.431982"
       ]
      }
     ],
     "prompt_number": 31
    },
    {
     "cell_type": "code",
     "collapsed": false,
     "input": [
      "df.ix[0:3,0:2]"
     ],
     "language": "python",
     "metadata": {},
     "outputs": [
      {
       "html": [
        "<div style=\"max-height:1000px;max-width:1500px;overflow:auto;\">\n",
        "<table border=\"1\" class=\"dataframe\">\n",
        "  <thead>\n",
        "    <tr style=\"text-align: right;\">\n",
        "      <th></th>\n",
        "      <th>A</th>\n",
        "      <th>B</th>\n",
        "    </tr>\n",
        "  </thead>\n",
        "  <tbody>\n",
        "    <tr>\n",
        "      <th>2013-01-01</th>\n",
        "      <td> 0.768288</td>\n",
        "      <td> 0.825438</td>\n",
        "    </tr>\n",
        "    <tr>\n",
        "      <th>2013-01-02</th>\n",
        "      <td> 0.667217</td>\n",
        "      <td>-1.399571</td>\n",
        "    </tr>\n",
        "    <tr>\n",
        "      <th>2013-01-03</th>\n",
        "      <td>-0.024938</td>\n",
        "      <td> 0.567187</td>\n",
        "    </tr>\n",
        "  </tbody>\n",
        "</table>\n",
        "</div>"
       ],
       "metadata": {},
       "output_type": "pyout",
       "prompt_number": 42,
       "text": [
        "                   A         B\n",
        "2013-01-01  0.768288  0.825438\n",
        "2013-01-02  0.667217 -1.399571\n",
        "2013-01-03 -0.024938  0.567187"
       ]
      }
     ],
     "prompt_number": 42
    },
    {
     "cell_type": "code",
     "collapsed": false,
     "input": [
      "df[['A','B']]"
     ],
     "language": "python",
     "metadata": {},
     "outputs": [
      {
       "html": [
        "<div style=\"max-height:1000px;max-width:1500px;overflow:auto;\">\n",
        "<table border=\"1\" class=\"dataframe\">\n",
        "  <thead>\n",
        "    <tr style=\"text-align: right;\">\n",
        "      <th></th>\n",
        "      <th>A</th>\n",
        "      <th>B</th>\n",
        "    </tr>\n",
        "  </thead>\n",
        "  <tbody>\n",
        "    <tr>\n",
        "      <th>2013-01-01</th>\n",
        "      <td> 0.768288</td>\n",
        "      <td> 0.825438</td>\n",
        "    </tr>\n",
        "    <tr>\n",
        "      <th>2013-01-02</th>\n",
        "      <td> 0.667217</td>\n",
        "      <td>-1.399571</td>\n",
        "    </tr>\n",
        "    <tr>\n",
        "      <th>2013-01-03</th>\n",
        "      <td>-0.024938</td>\n",
        "      <td> 0.567187</td>\n",
        "    </tr>\n",
        "    <tr>\n",
        "      <th>2013-01-04</th>\n",
        "      <td> 1.067104</td>\n",
        "      <td>-0.397615</td>\n",
        "    </tr>\n",
        "    <tr>\n",
        "      <th>2013-01-05</th>\n",
        "      <td> 1.538017</td>\n",
        "      <td> 0.630515</td>\n",
        "    </tr>\n",
        "    <tr>\n",
        "      <th>2013-01-06</th>\n",
        "      <td>-0.714654</td>\n",
        "      <td>-0.969771</td>\n",
        "    </tr>\n",
        "  </tbody>\n",
        "</table>\n",
        "</div>"
       ],
       "metadata": {},
       "output_type": "pyout",
       "prompt_number": 37,
       "text": [
        "                   A         B\n",
        "2013-01-01  0.768288  0.825438\n",
        "2013-01-02  0.667217 -1.399571\n",
        "2013-01-03 -0.024938  0.567187\n",
        "2013-01-04  1.067104 -0.397615\n",
        "2013-01-05  1.538017  0.630515\n",
        "2013-01-06 -0.714654 -0.969771"
       ]
      }
     ],
     "prompt_number": 37
    },
    {
     "cell_type": "code",
     "collapsed": false,
     "input": [
      "df[1:3].mean"
     ],
     "language": "python",
     "metadata": {},
     "outputs": [
      {
       "metadata": {},
       "output_type": "pyout",
       "prompt_number": 45,
       "text": [
        "<bound method DataFrame.mean of                    A         B         C         D\n",
        "2013-01-02  0.667217 -1.399571 -0.559452 -0.335808\n",
        "2013-01-03 -0.024938  0.567187 -0.182391  0.897209>"
       ]
      }
     ],
     "prompt_number": 45
    },
    {
     "cell_type": "code",
     "collapsed": false,
     "input": [],
     "language": "python",
     "metadata": {},
     "outputs": []
    }
   ],
   "metadata": {}
  }
 ]
}