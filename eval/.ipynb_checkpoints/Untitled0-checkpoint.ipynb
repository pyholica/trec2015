{
 "metadata": {
  "name": "",
  "signature": "sha256:57f7c6d70cf67830d0fcd056fe069d23efd6350be203151337964158b0a57d6d"
 },
 "nbformat": 3,
 "nbformat_minor": 0,
 "worksheets": []
}