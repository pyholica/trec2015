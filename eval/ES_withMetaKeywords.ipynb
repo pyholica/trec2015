{
 "metadata": {
  "name": "",
  "signature": "sha256:1e986af6f487d175b290be86d8316bfa72c397d47c137d9b635d3e10586d631c"
 },
 "nbformat": 3,
 "nbformat_minor": 0,
 "worksheets": [
  {
   "cells": [
    {
     "cell_type": "code",
     "collapsed": false,
     "input": [
      "from elasticsearch import Elasticsearch\n",
      "es = Elasticsearch([{'host':'210.107.192.201', 'port':9200}])"
     ],
     "language": "python",
     "metadata": {},
     "outputs": [],
     "prompt_number": 2
    },
    {
     "cell_type": "code",
     "collapsed": false,
     "input": [
      "import csv\n",
      "import os\n",
      "folder_name = \"pmclist_topic1\"\n",
      "index_name = \"dfr_total\"\n",
      "#analyzer_name = \"edge_ngram_analyzer\"\n",
      "topicNum = \"\"\n",
      "\n",
      "# summary query\n",
      "\n",
      "csvfile = open('summary.csv', 'rb')\n",
      "reader = csv.DictReader(csvfile)\n",
      "doc=reader.next()\n",
      "#list_sum = list(csvfile.readlines())\n",
      "#print(list_sum[3])\n",
      "query = doc['summary']\n",
      "print(doc['summary'])\n",
      "csvfile.close()\n",
      "\n",
      "# search list\n",
      "newpath = './{0}/'.format(folder_name)\n",
      "if not os.path.exists(newpath): os.makedirs(newpath)\n",
      "target = open(\"{0}topic{1}.csv\".format(newpath, topicNum), 'w')\n",
      "#res = es.search(index=index_name2,doc_type=\"article\", q=query, size=40000)\n",
      "res = es.search(index=index_name,doc_type=\"article\"\n",
      "                , q=query\n",
      "                , size=50000\n",
      "                , timeout=1000000\n",
      "                , request_timeout=1000000)\n",
      "count = 0\n",
      "for doc in res['hits']['hits']:\n",
      "    count += 1\n",
      "    text = '{0}, {1}, {2}'.format(count,doc['_source']['pmcid'],doc['_score'] )\n",
      "    #print (text)\n",
      "    target.write(text + '\\n')\n",
      "target.close()\n",
      "print(\"finished\")"
     ],
     "language": "python",
     "metadata": {},
     "outputs": [
      {
       "output_type": "stream",
       "stream": "stdout",
       "text": [
        "58-year-old woman with hypertension and obesity presents with exercise-related episodic chest pain radiating to the back.\n",
        "finished"
       ]
      },
      {
       "output_type": "stream",
       "stream": "stdout",
       "text": [
        "\n"
       ]
      }
     ],
     "prompt_number": 19
    },
    {
     "cell_type": "code",
     "collapsed": false,
     "input": [
      "query = '''\n",
      "Hypertension, Hypertensive,Obesity,\n",
      "Lung Infiltrate,\n",
      "Strawberry tongue,Conjunctivitis,\n",
      "Diabetes, Mellitus,\n",
      "Obese,Obesity,\n",
      "Cortical atrophy,Cerebral atrophy\n",
      "SOFT,SHORT STATURE, ONYCHODYSPLASIA, FACIAL DYSMORPHISM, HYPOTRICHOSIS SYNDROME,\n",
      "WAS,Wiskott-Aldrich Syndrome,\n",
      "Amenorrhea\n",
      "Hydrophobia,Rabies (disorder),Difficulty swallowing,Deglutition Disorders,\n",
      "Liver Abscess, Common Variable Immunodeficiency,\n",
      "Dysphagia, Dysphagia\n",
      "Amenorrhea,\n",
      "Osteoporosis,Diabetes, Diabetes Mellitus\n",
      "'''\n",
      "index_name = \"dfr_total\"\n",
      "query = query.lower()\n",
      "print(query)\n",
      "res = es.search(index=index_name,doc_type=\"article\"\n",
      "                , q=query\n",
      "                #, size=50000\n",
      "                , search_type = \"count\"\n",
      "                , timeout=1000000\n",
      "                , request_timeout=1000000)\n",
      "print(res)\n",
      "count = 0\n",
      "for doc in res['hits']['hits']:\n",
      "    count += 1\n",
      "    text = '{0}, {1}, {2}'.format(count,doc['_source']['pmcid'],doc['_score'] )\n",
      "    print (text)\n"
     ],
     "language": "python",
     "metadata": {},
     "outputs": [
      {
       "output_type": "stream",
       "stream": "stdout",
       "text": [
        "\n",
        "hypertension, hypertensive,obesity,\n",
        "lung infiltrate,\n",
        "strawberry tongue,conjunctivitis,\n",
        "diabetes, mellitus,\n",
        "obese,obesity,\n",
        "cortical atrophy,cerebral atrophy\n",
        "soft,short stature, onychodysplasia, facial dysmorphism, hypotrichosis syndrome,\n",
        "was,wiskott-aldrich syndrome,\n",
        "amenorrhea\n",
        "hydrophobia,rabies (disorder),difficulty swallowing,deglutition disorders,\n",
        "liver abscess, common variable immunodeficiency,\n",
        "dysphagia, dysphagia\n",
        "amenorrhea,\n",
        "hypertension, osteoporosis,diabetes, diabetes mellitus\n",
        "\n",
        "{u'hits': {u'hits': [], u'total': 653208, u'max_score': 0.0}, u'_shards': {u'successful': 5, u'failed': 0, u'total': 5}, u'took': 153, u'timed_out': False}"
       ]
      },
      {
       "output_type": "stream",
       "stream": "stdout",
       "text": [
        "\n"
       ]
      }
     ],
     "prompt_number": 8
    }
   ],
   "metadata": {}
  }
 ]
}